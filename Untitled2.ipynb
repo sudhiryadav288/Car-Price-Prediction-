{
  "nbformat": 4,
  "nbformat_minor": 0,
  "metadata": {
    "colab": {
      "name": "Untitled2.ipynb",
      "provenance": [],
      "collapsed_sections": []
    },
    "kernelspec": {
      "name": "python3",
      "display_name": "Python 3"
    },
    "language_info": {
      "name": "python"
    }
  },
  "cells": [
    {
      "cell_type": "markdown",
      "metadata": {
        "id": "b-TjhRZblguD"
      },
      "source": [
        "Importing Libraries\n"
      ]
    },
    {
      "cell_type": "code",
      "metadata": {
        "id": "p-4F0Ekzlntu"
      },
      "source": [
        "import numpy as np\n",
        "import pandas as pd"
      ],
      "execution_count": 36,
      "outputs": []
    },
    {
      "cell_type": "markdown",
      "metadata": {
        "id": "ST0BdJGHltsR"
      },
      "source": [
        "Importing data"
      ]
    },
    {
      "cell_type": "code",
      "metadata": {
        "id": "S-pngmTCl2go"
      },
      "source": [
        "dataset = pd.read_csv('audi.csv')\n",
        "x = dataset.iloc[:,[0,1,3,4,5,6,7,8]].values\n",
        "y = dataset.iloc[:,[2]].values"
      ],
      "execution_count": 37,
      "outputs": []
    },
    {
      "cell_type": "code",
      "metadata": {
        "colab": {
          "base_uri": "https://localhost:8080/"
        },
        "id": "S7rQztOQo9TT",
        "outputId": "2b03afa7-beca-4dea-d432-3630ee339c39"
      },
      "source": [
        "print(x)"
      ],
      "execution_count": 38,
      "outputs": [
        {
          "output_type": "stream",
          "name": "stdout",
          "text": [
            "[[' A1' 2017 'Manual' ... 150 55.4 1.4]\n",
            " [' A6' 2016 'Automatic' ... 20 64.2 2.0]\n",
            " [' A1' 2016 'Manual' ... 30 55.4 1.4]\n",
            " ...\n",
            " [' A3' 2020 'Manual' ... 150 49.6 1.0]\n",
            " [' Q3' 2017 'Automatic' ... 150 47.9 1.4]\n",
            " [' Q3' 2016 'Manual' ... 150 47.9 1.4]]\n"
          ]
        }
      ]
    },
    {
      "cell_type": "code",
      "metadata": {
        "colab": {
          "base_uri": "https://localhost:8080/"
        },
        "id": "Vml4b40qo_3Z",
        "outputId": "58385b55-e006-4440-f55c-3acf8f009d9a"
      },
      "source": [
        "print(y)"
      ],
      "execution_count": 39,
      "outputs": [
        {
          "output_type": "stream",
          "name": "stdout",
          "text": [
            "[[12500]\n",
            " [16500]\n",
            " [11000]\n",
            " ...\n",
            " [17199]\n",
            " [19499]\n",
            " [15999]]\n"
          ]
        }
      ]
    },
    {
      "cell_type": "markdown",
      "metadata": {
        "id": "JzI_938WsYOo"
      },
      "source": [
        "# `**Data Preprocessing**`"
      ]
    },
    {
      "cell_type": "markdown",
      "metadata": {
        "id": "coG4-5iush5N"
      },
      "source": [
        "Label Encoding"
      ]
    },
    {
      "cell_type": "code",
      "metadata": {
        "id": "ypSMjUKWsmHP"
      },
      "source": [
        "from sklearn.preprocessing import LabelEncoder\n",
        "le1 = LabelEncoder()\n",
        "x[:,0] = le1.fit_transform(x[:,0])\n",
        "le2 = LabelEncoder()\n",
        "x[:,4] = le2.fit_transform(x[:,4])"
      ],
      "execution_count": 40,
      "outputs": []
    },
    {
      "cell_type": "code",
      "metadata": {
        "id": "sbxEYuZbtU_a"
      },
      "source": [
        "from sklearn.preprocessing import OneHotEncoder\n",
        "from sklearn.compose import ColumnTransformer\n",
        "ct = ColumnTransformer(transformers = [('encoder', OneHotEncoder(),[2])],remainder = 'passthrough')\n",
        "x = ct.fit_transform(x)"
      ],
      "execution_count": 41,
      "outputs": []
    },
    {
      "cell_type": "code",
      "metadata": {
        "colab": {
          "base_uri": "https://localhost:8080/"
        },
        "id": "ov20X-hFvZVG",
        "outputId": "c64077e4-bded-4df8-fd13-2c8e485d1b6c"
      },
      "source": [
        "print(x)"
      ],
      "execution_count": 42,
      "outputs": [
        {
          "output_type": "stream",
          "name": "stdout",
          "text": [
            "[[0.0 1.0 0.0 ... 150 55.4 1.4]\n",
            " [1.0 0.0 0.0 ... 20 64.2 2.0]\n",
            " [0.0 1.0 0.0 ... 30 55.4 1.4]\n",
            " ...\n",
            " [0.0 1.0 0.0 ... 150 49.6 1.0]\n",
            " [1.0 0.0 0.0 ... 150 47.9 1.4]\n",
            " [0.0 1.0 0.0 ... 150 47.9 1.4]]\n"
          ]
        }
      ]
    },
    {
      "cell_type": "markdown",
      "metadata": {
        "id": "td79Lb3wxKH7"
      },
      "source": [
        "# **Feature Scaling**"
      ]
    },
    {
      "cell_type": "code",
      "metadata": {
        "id": "bv_emg3hxVGI"
      },
      "source": [
        "from sklearn.preprocessing import StandardScaler\n",
        "sc = StandardScaler()\n",
        "x = sc.fit_transform(x)"
      ],
      "execution_count": 43,
      "outputs": []
    },
    {
      "cell_type": "code",
      "metadata": {
        "colab": {
          "base_uri": "https://localhost:8080/"
        },
        "id": "ATaAzau-xxz9",
        "outputId": "778d817e-11a9-4458-ebfb-10c6c7a75e65"
      },
      "source": [
        "print(x)"
      ],
      "execution_count": 44,
      "outputs": [
        {
          "output_type": "stream",
          "name": "stdout",
          "text": [
            "[[-0.58326752  1.2007284  -0.71233307 ...  0.35714729  0.35755001\n",
            "  -0.88021837]\n",
            " [ 1.71447913 -0.83282781 -0.71233307 ... -1.57832278  1.03713001\n",
            "   0.11492465]\n",
            " [-0.58326752  1.2007284  -0.71233307 ... -1.42944047  0.35755001\n",
            "  -0.88021837]\n",
            " ...\n",
            " [-0.58326752  1.2007284  -0.71233307 ...  0.35714729 -0.09035499\n",
            "  -1.54364705]\n",
            " [ 1.71447913 -0.83282781 -0.71233307 ...  0.35714729 -0.22163749\n",
            "  -0.88021837]\n",
            " [-0.58326752  1.2007284  -0.71233307 ...  0.35714729 -0.22163749\n",
            "  -0.88021837]]\n"
          ]
        }
      ]
    },
    {
      "cell_type": "markdown",
      "metadata": {
        "id": "NGZoMzMQK5f_"
      },
      "source": [
        "# **Splitting the dataset into training and test set**"
      ]
    },
    {
      "cell_type": "code",
      "metadata": {
        "id": "ciQrz8wELIZW"
      },
      "source": [
        "from sklearn.model_selection import train_test_split\n",
        "(X_train, X_test, Y_train, Y_test) = train_test_split(x,y,test_size = 0.2, random_state = 0)\n"
      ],
      "execution_count": 45,
      "outputs": []
    },
    {
      "cell_type": "markdown",
      "metadata": {
        "id": "YTfWdm4nLwBD"
      },
      "source": [
        "# Training Model"
      ]
    },
    {
      "cell_type": "code",
      "metadata": {
        "colab": {
          "base_uri": "https://localhost:8080/"
        },
        "id": "-2wTrcDOL2Qn",
        "outputId": "c20a7915-434a-440c-c8da-787ed53c28d4"
      },
      "source": [
        "from sklearn.ensemble import RandomForestRegressor\n",
        "regression = RandomForestRegressor(random_state = 0)\n",
        "regression.fit(X_train, Y_train)"
      ],
      "execution_count": 46,
      "outputs": [
        {
          "output_type": "stream",
          "name": "stderr",
          "text": [
            "/usr/local/lib/python3.7/dist-packages/ipykernel_launcher.py:3: DataConversionWarning: A column-vector y was passed when a 1d array was expected. Please change the shape of y to (n_samples,), for example using ravel().\n",
            "  This is separate from the ipykernel package so we can avoid doing imports until\n"
          ]
        },
        {
          "output_type": "execute_result",
          "data": {
            "text/plain": [
              "RandomForestRegressor(bootstrap=True, ccp_alpha=0.0, criterion='mse',\n",
              "                      max_depth=None, max_features='auto', max_leaf_nodes=None,\n",
              "                      max_samples=None, min_impurity_decrease=0.0,\n",
              "                      min_impurity_split=None, min_samples_leaf=1,\n",
              "                      min_samples_split=2, min_weight_fraction_leaf=0.0,\n",
              "                      n_estimators=100, n_jobs=None, oob_score=False,\n",
              "                      random_state=0, verbose=0, warm_start=False)"
            ]
          },
          "metadata": {},
          "execution_count": 46
        }
      ]
    },
    {
      "cell_type": "code",
      "metadata": {
        "id": "e7Dp7mBZNyF7"
      },
      "source": [
        "y_pred = regression.predict(X_test)"
      ],
      "execution_count": 47,
      "outputs": []
    },
    {
      "cell_type": "code",
      "metadata": {
        "colab": {
          "base_uri": "https://localhost:8080/"
        },
        "id": "vY3nhvljN-98",
        "outputId": "fe62c528-fd93-48bf-d0d3-e60d35ce07a1"
      },
      "source": [
        "print(y_pred)"
      ],
      "execution_count": 48,
      "outputs": [
        {
          "output_type": "stream",
          "name": "stdout",
          "text": [
            "[14337.15 23450.35 27330.07 ... 46275.18 31359.    9929.62]\n"
          ]
        }
      ]
    },
    {
      "cell_type": "code",
      "metadata": {
        "colab": {
          "base_uri": "https://localhost:8080/"
        },
        "id": "NfpCAf4LOIzM",
        "outputId": "612c6aed-74f8-4352-eeb2-990fd330992e"
      },
      "source": [
        "print(Y_test)"
      ],
      "execution_count": 49,
      "outputs": [
        {
          "output_type": "stream",
          "name": "stdout",
          "text": [
            "[[14998]\n",
            " [21950]\n",
            " [28990]\n",
            " ...\n",
            " [45995]\n",
            " [30500]\n",
            " [ 8400]]\n"
          ]
        }
      ]
    },
    {
      "cell_type": "markdown",
      "metadata": {
        "id": "Nc4TYnksOxIg"
      },
      "source": [
        "Testing Result"
      ]
    },
    {
      "cell_type": "code",
      "metadata": {
        "id": "F9gbO7IZOzY9"
      },
      "source": [
        "mydata = np.concatenate((y_pred.reshape(len(y_pred), 1), Y_test.reshape(len(Y_test), 1)),1)"
      ],
      "execution_count": 55,
      "outputs": []
    },
    {
      "cell_type": "markdown",
      "metadata": {
        "id": "zHcTCjpVPlZN"
      },
      "source": [
        "## Calculateing Accuracy"
      ]
    },
    {
      "cell_type": "code",
      "metadata": {
        "colab": {
          "base_uri": "https://localhost:8080/"
        },
        "id": "ctmiCKdAPqnj",
        "outputId": "a214dfde-ad21-45d4-ed01-ead9b4f96f2b"
      },
      "source": [
        "from sklearn.metrics import r2_score\n",
        "r2_score(Y_test,  y_pred)\n"
      ],
      "execution_count": 56,
      "outputs": [
        {
          "output_type": "execute_result",
          "data": {
            "text/plain": [
              "0.9536134841307546"
            ]
          },
          "metadata": {},
          "execution_count": 56
        }
      ]
    },
    {
      "cell_type": "markdown",
      "metadata": {
        "id": "TeybbsYbRmby"
      },
      "source": [
        "# Making Dataframe"
      ]
    },
    {
      "cell_type": "code",
      "metadata": {
        "id": "ERvAxE62RqrP"
      },
      "source": [
        "dataframe = pd.DataFrame(mydata, columns = ['Predicted value','Real Value'])"
      ],
      "execution_count": 57,
      "outputs": []
    },
    {
      "cell_type": "code",
      "metadata": {
        "colab": {
          "base_uri": "https://localhost:8080/"
        },
        "id": "9APlj9KfR9MA",
        "outputId": "85a0d2f7-8dde-43d3-9552-6e70f875d588"
      },
      "source": [
        "print(dataframe)"
      ],
      "execution_count": 58,
      "outputs": [
        {
          "output_type": "stream",
          "name": "stdout",
          "text": [
            "      Predicted value  Real Value\n",
            "0            14337.15     14998.0\n",
            "1            23450.35     21950.0\n",
            "2            27330.07     28990.0\n",
            "3            27200.98     25489.0\n",
            "4            32250.05     30950.0\n",
            "...               ...         ...\n",
            "2129         39147.77     23700.0\n",
            "2130         16679.95     18000.0\n",
            "2131         46275.18     45995.0\n",
            "2132         31359.00     30500.0\n",
            "2133          9929.62      8400.0\n",
            "\n",
            "[2134 rows x 2 columns]\n"
          ]
        }
      ]
    },
    {
      "cell_type": "code",
      "metadata": {
        "id": "dDveo_meSwIl"
      },
      "source": [
        ""
      ],
      "execution_count": null,
      "outputs": []
    }
  ]
}